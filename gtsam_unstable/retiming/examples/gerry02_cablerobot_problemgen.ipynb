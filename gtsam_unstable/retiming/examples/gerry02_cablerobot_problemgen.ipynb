{
 "cells": [
  {
   "cell_type": "markdown",
   "metadata": {},
   "source": [
    "# Cable Robot Problem Generation\n",
    "This code helps generate the coefficients to generate a cable robot planning problem, because it's tedious to do in C++."
   ]
  },
  {
   "cell_type": "code",
   "execution_count": null,
   "metadata": {},
   "outputs": [],
   "source": [
    "import numpy as np\n",
    "import toppra as ta\n",
    "import plotly.express as px\n",
    "import pandas as pd\n",
    "from pathlib import Path\n",
    "from plotly.subplots import make_subplots\n",
    "import plotly.graph_objects as go"
   ]
  },
  {
   "cell_type": "markdown",
   "metadata": {},
   "source": [
    "### Defining the path and its derivatives"
   ]
  },
  {
   "cell_type": "code",
   "execution_count": null,
   "metadata": {},
   "outputs": [],
   "source": [
    "# Let's create a simple rectangle\n",
    "w, h = 1.5, 1\n",
    "if False:\n",
    "    path = np.array([[0, 0], [w, 0], [w, h], [0, h], [0, 0]]) + [1.5, 1.1] - [w/2, h/2]\n",
    "    # Densely interpolate every dx units along the path\n",
    "    dx = 0.05\n",
    "    way_pts = []\n",
    "    for s, e in zip(path[:-1], path[1:]):\n",
    "        num_pts = int(np.linalg.norm(e - s) / dx)\n",
    "        way_pts.append(np.linspace(s, e, num_pts))\n",
    "    way_pts = np.concatenate(way_pts, axis=0)\n",
    "elif False:\n",
    "    t = np.linspace(0, 2*np.pi, 100)\n",
    "    way_pts = 0.5 * np.vstack((np.cos(t), np.sin(t))).T + [1.5, 1.1]\n",
    "elif True:\n",
    "    th = np.linspace(0, 2*np.pi, 5, endpoint=False)\n",
    "    # path = h * 0.5 * np.vstack((np.cos(th), np.sin(th))).T + [1.5, 1.1]\n",
    "    path = h * 0.5 * np.vstack((-np.sin(th), np.cos(th))).T + [1.5, 1.1]\n",
    "    path = np.roll(np.tile(path, (3, 1))[::3], 1, axis=0)\n",
    "    path = np.vstack((path, path[0]))\n",
    "\n",
    "    dx = 0.05\n",
    "    way_pts = []\n",
    "    for s, e in zip(path[:-1], path[1:]):\n",
    "        num_pts = int(np.linalg.norm(e - s) / dx)\n",
    "        way_pts.append(np.linspace(s, e, num_pts))\n",
    "    way_pts = np.concatenate(way_pts, axis=0)\n",
    "\n",
    "# Create a TOPPRA geometric path object, mainly just to get the spline interpolator\n",
    "grid_pts = np.linspace(0, 10, way_pts.shape[0])\n",
    "path = ta.SplineInterpolator(grid_pts, way_pts)\n",
    "\n",
    "# And interpolate\n",
    "t = np.linspace(0, 10, 1000)\n",
    "x = path.eval(t)\n",
    "xd = path.evald(t)\n",
    "xdd = path.evaldd(t)\n",
    "delta = 10 / 500"
   ]
  },
  {
   "cell_type": "markdown",
   "metadata": {},
   "source": [
    "### Cable Robot Constraints & Objectives"
   ]
  },
  {
   "cell_type": "code",
   "execution_count": null,
   "metadata": {},
   "outputs": [],
   "source": [
    "W_, H_ = 2.92, 2.32  # W/H of the frame\n",
    "M = 1.0  # Mass of the end effector\n",
    "g = np.array([0, -9.8])  # Gravity\n",
    "# v_des = 0.15  # Desired velocity\n",
    "# v_max = 0.30  # Maximum velocity\n",
    "v_min = 0.02  # Minimum velocity\n",
    "v_des = 1.00  # Desired velocity\n",
    "v_max = 1.00  # Maximum velocity\n",
    "t_m = 55  # Mid tension\n",
    "t_min, t_max = 10, 100  # Minimum and maximum tension"
   ]
  },
  {
   "cell_type": "code",
   "execution_count": null,
   "metadata": {},
   "outputs": [],
   "source": [
    "A = np.array([[W_, 0], [W_, H_], [0, H_], [0, 0]])  # 4 x 2\n",
    "def wrench(x):  # x is n x 2\n",
    "    ls = x[..., None] - A.T.reshape(1, 2, 4)  # n x 2 x 4\n",
    "    return -ls / np.sqrt(np.sum(np.square(ls), axis=1, keepdims=True))  # n x 2 x 4\n",
    "W = wrench(x)  # n x 2 x 4"
   ]
  },
  {
   "cell_type": "code",
   "execution_count": null,
   "metadata": {},
   "outputs": [],
   "source": [
    "# Plot the robot & trajectory\n",
    "fig = px.scatter(x=x[:, 0], y=x[:, 1]).update_traces(marker=dict(color='red', size=1))\n",
    "fig.add_trace(px.line(x=A[[0,1,2,3,0], 0], y=A[[0,1,2,3,0], 1]).data[0])\n",
    "# Axes equal\n",
    "fig.update_layout(xaxis=dict(scaleanchor=\"y\", scaleratio=1))"
   ]
  },
  {
   "cell_type": "code",
   "execution_count": null,
   "metadata": {},
   "outputs": [],
   "source": [
    "# Desired speed is easy, just do ||x'^2.x - v_des^2||^2\n",
    "# THIS IS ON X\n",
    "xprimenorm2 = np.sum(np.square(xd), axis=1)\n",
    "speed_quadratic_coeffs1d = np.stack([xprimenorm2**2, -2 * xprimenorm2 * v_des**2,\n",
    "                                     np.ones_like(xprimenorm2) * v_des**4]).T\n",
    "print(speed_quadratic_coeffs1d.shape)\n",
    "speed_quadratic_coeffs1d[::100]"
   ]
  },
  {
   "cell_type": "code",
   "execution_count": null,
   "metadata": {},
   "outputs": [],
   "source": [
    "# Same with speed limits\n",
    "x_max = v_max**2 / np.sum(np.square(xd), axis=1)\n",
    "speed_constr = np.stack([np.ones_like(x_max), x_max], axis=1)\n",
    "speed_constr_zero = np.stack([-np.ones_like(x_max), np.zeros_like(x_max) - v_min], axis=1)\n",
    "speed_constr = np.stack([speed_constr, speed_constr_zero], axis=1)\n",
    "print(speed_constr.shape)\n",
    "speed_constr[::100]"
   ]
  },
  {
   "cell_type": "code",
   "execution_count": null,
   "metadata": {},
   "outputs": [],
   "source": [
    "# Acceleration limits, on u,x.  Since we assume point mass, we can ignore coriolis term B\n",
    "# M.xdd + M.g - W.t = 0\n",
    "# M.(x'.sdd + x''.sd^2) <= -M.g + W.tmax\n",
    "# M.(x'.sdd + x''.sd^2) >= -M.g + W.tmin\n",
    "# Actually I messed up, we need the feasible polygon, which I'm too lazy to do.\n",
    "# Also in the cable robot I just use pseudoinverse anyway.  So let's do:\n",
    "# Given desired wrench F=WT, compute T as:\n",
    "#   T = T_mid + W^+.F\n",
    "# T_min <= T_mid + W^+ (M.x'.sdd + Mx''.sd^2 + M.g) <= T_max\n",
    "# T_min <= (W^+.M.x').sdd + (W^+.M.x'').sd^2 + (W^+.M.g + T_mid) <= T_max\n",
    "# T_min <= (W^+.M.x').u + (W^+.M.x'').x + (W^+.M.g + T_mid) <= T_max\n",
    "T_max = np.repeat(t_max, 4)\n",
    "T_mid = np.repeat(t_m, 4)\n",
    "T_min = np.repeat(t_min, 4)\n",
    "\n",
    "W_pinv = np.linalg.pinv(W)\n",
    "WiMxp = M * np.einsum('ijk,ik->ij', W_pinv, xd)\n",
    "WiMxpp = M * np.einsum('ijk,ik->ij', W_pinv, xdd)\n",
    "ff = M * np.einsum('ijk,k->ij', W_pinv, g)\n",
    "\n",
    "accel_constr_max = np.stack([WiMxp, WiMxpp, T_max - T_mid - ff], axis=2)\n",
    "accel_constr_min = np.stack([-WiMxp, -WiMxpp, -T_min + T_mid + ff], axis=2)\n",
    "accel_constr = np.concatenate([accel_constr_max, accel_constr_min], axis=1)\n",
    "print(accel_constr_max.shape, accel_constr_min.shape, accel_constr.shape)\n",
    "# 200 x 8(num constraints) x 3 (2 variables)\n",
    "\n",
    "# Remove redundant constraints\n",
    "accel_constr_new = accel_constr\n",
    "print(accel_constr_new[0])\n",
    "print(accel_constr_new[0] / np.abs(accel_constr_new[0, :, 0:1]))\n",
    "print(accel_constr_new[::100] / np.abs(accel_constr_new[::100, :, 0:1]))"
   ]
  },
  {
   "cell_type": "code",
   "execution_count": null,
   "metadata": {},
   "outputs": [],
   "source": [
    "# Acceleration objectives, THIS IS ON U, X\n",
    "# Minimize this: || (W^+.M.x').sdd + (W^+.M.x'').sd^2 + (W^+.M.g + T_mid) - T_mid ||^2\n",
    "#                || a.u + b.x + c ||^2\n",
    "#                a^2.u^2 + b^2.x^2 + 2ab.ux + 2ac.u + 2bc.x + c^2\n",
    "a, b, c = WiMxp, WiMxpp, ff\n",
    "dot_ = lambda x, y: np.einsum('ni,ni->n', x, y)\n",
    "accel_quad = np.stack([dot_(a, a), dot_(b, b), 2*dot_(a, b), 2*dot_(a, c), 2*dot_(b, c), dot_(c,c)], axis=1)\n",
    "print(accel_quad.shape)\n",
    "print(accel_quad[10])\n",
    "print(delta)"
   ]
  },
  {
   "cell_type": "markdown",
   "metadata": {},
   "source": [
    "### Write out the constraints/objectives\n",
    "\n",
    "Easiest way is just to write a literal c++ file."
   ]
  },
  {
   "cell_type": "code",
   "execution_count": null,
   "metadata": {},
   "outputs": [],
   "source": [
    "import numpy as np\n",
    "\n",
    "def write_np_to_cpp(f, np_array, var_name):\n",
    "    shape = np_array.shape\n",
    "    dim = len(shape)\n",
    "\n",
    "    if dim == 2:\n",
    "        rows, cols = shape\n",
    "        f.write(f\"std::array<std::array<double, {cols}>, {rows}> {var_name} = {{{{\\n\")\n",
    "        for row in np_array:\n",
    "            row_str = \", \".join(map(str, row))\n",
    "            f.write(f\"    {{{{{row_str}}}}},\\n\")\n",
    "        f.write(\"}};\\n\\n\")\n",
    "\n",
    "    elif dim == 3:\n",
    "        depth, rows, cols = shape\n",
    "        f.write(f\"std::array<std::array<std::array<double, {cols}>, {rows}>, {depth}> {var_name} = {{{{\\n\")\n",
    "        for matrix in np_array:\n",
    "            f.write(\"    {{\\n\")\n",
    "            for row in matrix:\n",
    "                row_str = \", \".join(map(str, row))\n",
    "                f.write(f\"        {{{{{row_str}}}}},\\n\")\n",
    "            f.write(\"    }},\\n\")\n",
    "        f.write(\"}};\\n\\n\")\n",
    "\n",
    "    else:\n",
    "        raise ValueError(\"Only 2D and 3D arrays are supported.\")\n"
   ]
  },
  {
   "cell_type": "code",
   "execution_count": null,
   "metadata": {},
   "outputs": [],
   "source": [
    "with open('data/CableRobotProblem.h', 'w') as f:\n",
    "    f.write('#pragma once\\n')\n",
    "    f.write('#include <Eigen/Core>\\n')\n",
    "    f.write('#include <vector>\\n')\n",
    "    write_np_to_cpp(f, speed_constr, 'constr_x')\n",
    "    write_np_to_cpp(f, accel_constr_new, 'constr_u')\n",
    "    write_np_to_cpp(f, speed_quadratic_coeffs1d, 'quad_x')\n",
    "    write_np_to_cpp(f, accel_quad, 'quad_u')"
   ]
  },
  {
   "cell_type": "markdown",
   "metadata": {},
   "source": [
    "### Run the C++ code, now parse the results"
   ]
  },
  {
   "cell_type": "code",
   "execution_count": null,
   "metadata": {},
   "outputs": [],
   "source": [
    "!cd ../../../build/ && ninja -j8 CableRobotExample.run"
   ]
  },
  {
   "cell_type": "code",
   "execution_count": null,
   "metadata": {},
   "outputs": [],
   "source": [
    "root = Path('../../../build/gtsam_unstable/retiming/examples')\n",
    "result = pd.read_csv(root / 'cable_robot_qopp_solution.csv', header=None, sep=',')[:-1]\n",
    "result = result.rename(columns={0: 'x', 1: 'u'})\n",
    "result_topp = pd.read_csv(root / 'cable_robot_topp_solution.csv', header=None, sep=',')[:-1]\n",
    "result_topp = result_topp.rename(columns={0: 'x', 1: 'u'})\n",
    ";"
   ]
  },
  {
   "cell_type": "code",
   "execution_count": null,
   "metadata": {},
   "outputs": [],
   "source": [
    "traj = ta.parametrizer.ParametrizeSpline(path, t, np.sqrt(result['x'].values))\n",
    "traj_topp = ta.parametrizer.ParametrizeSpline(path, t, np.sqrt(result_topp['x'].values))"
   ]
  },
  {
   "cell_type": "code",
   "execution_count": null,
   "metadata": {},
   "outputs": [],
   "source": [
    "t_vals = np.linspace(0, traj.get_duration(), 500)\n",
    "out = traj.eval(t_vals)\n",
    "outd = traj.evald(t_vals)\n",
    "outdd = traj.evaldd(t_vals)\n",
    "\n",
    "t_vals_topp = np.linspace(0, traj_topp.get_duration(), 500)\n",
    "out_topp = traj_topp.eval(t_vals_topp)\n",
    "outd_topp = traj_topp.evald(t_vals_topp)\n",
    "outdd_topp = traj_topp.evaldd(t_vals_topp)"
   ]
  },
  {
   "cell_type": "code",
   "execution_count": null,
   "metadata": {},
   "outputs": [],
   "source": [
    "t1 = np.concatenate((traj.ss_waypoints, [traj.ss_waypoints[-1]]))\n",
    "result['t'] = traj.ss_waypoints\n",
    "result_topp['t'] = traj_topp.ss_waypoints"
   ]
  },
  {
   "cell_type": "code",
   "execution_count": null,
   "metadata": {},
   "outputs": [],
   "source": [
    "# Cable Tensions\n",
    "# T = (W^+.M.x').u + (W^+.M.x'').x + (W^+.M.g + T_mid)\n",
    "# T_max = np.repeat(t_max, 4)\n",
    "# T_mid = np.repeat(t_m, 4)\n",
    "# T_min = np.repeat(t_min, 4)\n",
    "\n",
    "# W_pinv = np.linalg.pinv(W)\n",
    "# WiMxp = M * np.einsum('ijk,ik->ij', W_pinv, xd)\n",
    "# WiMxpp = M * np.einsum('ijk,ik->ij', W_pinv, xdd)\n",
    "# ff = M * np.einsum('ijk,k->ij', W_pinv, g)\n",
    "\n",
    "Tensions = WiMxp * result['u'].values[:, None] + WiMxpp * result['x'].values[:, None] + ff + T_mid\n",
    "Tensions_topp = WiMxp * result_topp['u'].values[:, None] + WiMxpp * result_topp['x'].values[:, None] + ff + T_mid\n",
    "\n",
    "fig = make_subplots(rows=1, cols=2, shared_yaxes=True,\n",
    "                    subplot_titles=(\"QOPP\", \"TOPP\"))\n",
    "for l in px.line(Tensions).data:\n",
    "    fig.add_trace(l, row=1, col=1)\n",
    "for l in px.line(Tensions_topp).data:\n",
    "    fig.add_trace(l, row=1, col=2)\n",
    "fig.show()"
   ]
  },
  {
   "cell_type": "code",
   "execution_count": null,
   "metadata": {},
   "outputs": [],
   "source": [
    "# Matplotlib config\n",
    "# Much slower, set to True when generating final plots\n",
    "plt.rcParams['text.usetex'] = True\n",
    "plt.rcParams['figure.figsize'] = [3.0, 2.0] # [6.4, 4.8]\n",
    "# Set all label sizes to 8pt\n",
    "plt.rcParams['font.size'] = 8\n",
    "plt.rcParams['axes.labelsize'] = 8\n",
    "plt.rcParams['axes.titlesize'] = 9\n",
    "plt.rcParams['xtick.labelsize'] = 8\n",
    "plt.rcParams['ytick.labelsize'] = 8\n",
    "plt.rcParams['legend.fontsize'] = 6\n",
    "plt.rcParams['figure.titlesize'] = 10\n",
    "# Set line widths\n",
    "plt.rcParams['axes.linewidth'] = 0.3\n",
    "plt.rcParams['lines.linewidth'] = 0.5\n",
    "plt.rcParams['lines.markersize'] = 4\n",
    "plt.rcParams['lines.markeredgewidth'] = 0.5\n",
    "plt.rcParams['patch.linewidth'] = 0.3\n",
    "plt.rcParams['grid.linewidth'] = 0.3\n",
    "plt.rcParams['xtick.major.width'] = 0.3\n",
    "plt.rcParams['ytick.major.width'] = 0.3\n",
    "plt.rcParams['xtick.minor.width'] = 0.3\n",
    "plt.rcParams['ytick.minor.width'] = 0.3\n",
    "plt.rcParams['xtick.major.size'] = 2\n",
    "plt.rcParams['ytick.major.size'] = 2\n",
    "plt.rcParams['xtick.minor.size'] = 1\n",
    "plt.rcParams['ytick.minor.size'] = 1"
   ]
  },
  {
   "cell_type": "code",
   "execution_count": null,
   "metadata": {},
   "outputs": [],
   "source": [
    "# Publication-quality tension vs time\n",
    "# Create a figure and a 2x1 grid of subplots\n",
    "fig, axes = plt.subplots(nrows=1, ncols=2, figsize=(5, 2))\n",
    "\n",
    "colors = ['k', 'r', 'g', 'b']\n",
    "# Plotting Tensions on the first subplot\n",
    "for i in range(4):\n",
    "    axes[0].plot(result['t'], Tensions[:, i], colors[i], label=f'Cable {i+1} Tension', linewidth=1)\n",
    "axes[0].plot(result['t'], t_max * np.ones_like(result['t']), 'k:', label=f'Tenison Limits', linewidth=1)\n",
    "axes[0].plot(result['t'], t_min * np.ones_like(result['t']), 'k:', linewidth=1)\n",
    "axes[0].set_xlim([0, result['t'].max() * 1.05])\n",
    "axes[0].set_title('QOPP Solution (Ours)')\n",
    "axes[0].set_xlabel('Time (s)')\n",
    "axes[0].set_ylabel('Cable Tensions (N)')\n",
    "axes[0].legend(fontsize=4)\n",
    "\n",
    "# Plotting Tensions_topp on the second subplot\n",
    "for i in range(4):\n",
    "    axes[1].plot(result_topp['t'], Tensions_topp[:, i], colors[i], label=f'Cable {i+1} Tension', linewidth=1)\n",
    "axes[1].plot(result_topp['t'], t_max * np.ones_like(result_topp['t']), 'k:', label=f'Tenison Limits', linewidth=1)\n",
    "axes[1].plot(result_topp['t'], t_min * np.ones_like(result_topp['t']), 'k:', linewidth=1)\n",
    "axes[1].set_xlim([0, result_topp['t'].max() * 1.05])\n",
    "axes[1].set_title('TOPP Solution')\n",
    "axes[1].set_xlabel('Time (s)')\n",
    "# axes[1].set_ylabel('Cable Tensions (N)')\n",
    "# axes[1].legend()\n",
    "\n",
    "# share y axis\n",
    "axes[0].get_shared_y_axes().join(axes[0], axes[1])\n",
    "\n",
    "# Adjust the layout\n",
    "plt.tight_layout()\n",
    "\n",
    "# Save the figure\n",
    "# plt.savefig('/Users/gerry/DropboxGatech/Apps/Overleaf/ICRA2024_TrajectoryRetimingQuadraticObjectives/figs/TensionsCompare.eps')\n",
    "\n",
    "# Show the plot\n",
    "plt.show()\n"
   ]
  },
  {
   "cell_type": "code",
   "execution_count": null,
   "metadata": {},
   "outputs": [],
   "source": [
    "fig = make_subplots(rows=1, cols=2, shared_yaxes=True,\n",
    "                    subplot_titles=(\"QOPP\", \"TOPP\")).update_layout(height=300)\n",
    "for l in px.scatter(result[:-1], y=['x', 'u']).update_traces(marker=dict(size=2), line=dict(width=1), mode='lines+markers').data:\n",
    "    fig.add_trace(l, row=1, col=1)\n",
    "for l in px.scatter(result_topp[:-1], y=['x', 'u']).update_traces(marker=dict(size=2), line=dict(width=1), mode='lines+markers').data:\n",
    "    fig.add_trace(l, row=1, col=2)\n",
    "fig.show()"
   ]
  },
  {
   "cell_type": "code",
   "execution_count": null,
   "metadata": {},
   "outputs": [],
   "source": [
    "fig = make_subplots(rows=3, cols=2, \n",
    "                    subplot_titles=(\"Position\", \"Position\", \"Velocity\", \"Velocity\", \"Acceleration\", \"Acceleration\"))\n",
    "\n",
    "# Add traces with specified colors\n",
    "fig.add_trace(go.Scatter(x=t_vals, y=out[:, 0], mode='lines', name='Position X', line=dict(color='red')), row=1, col=1)\n",
    "fig.add_trace(go.Scatter(x=t_vals, y=out[:, 1], mode='lines', name='Position Y', line=dict(color='green')), row=1, col=1)\n",
    "\n",
    "fig.add_trace(go.Scatter(x=t_vals, y=outd[:, 0], mode='lines', name='Velocity X', line=dict(color='red')), row=2, col=1)\n",
    "fig.add_trace(go.Scatter(x=t_vals, y=outd[:, 1], mode='lines', name='Velocity Y', line=dict(color='green')), row=2, col=1)\n",
    "\n",
    "fig.add_trace(go.Scatter(x=t_vals, y=outdd[:, 0], mode='lines', name='Acceleration X', line=dict(color='red')), row=3, col=1)\n",
    "fig.add_trace(go.Scatter(x=t_vals, y=outdd[:, 1], mode='lines', name='Acceleration Y', line=dict(color='green')), row=3, col=1)\n",
    "\n",
    "# Add traces with specified colors\n",
    "fig.add_trace(go.Scatter(x=t_vals_topp, y=out_topp[:, 0], mode='lines', name='Position X', line=dict(dash='solid', color='darkred')), row=1, col=2)\n",
    "fig.add_trace(go.Scatter(x=t_vals_topp, y=out_topp[:, 1], mode='lines', name='Position Y', line=dict(dash='solid', color='darkgreen')), row=1, col=2)\n",
    "\n",
    "fig.add_trace(go.Scatter(x=t_vals_topp, y=outd_topp[:, 0], mode='lines', name='Velocity X', line=dict(dash='solid', color='darkred')), row=2, col=2)\n",
    "fig.add_trace(go.Scatter(x=t_vals_topp, y=outd_topp[:, 1], mode='lines', name='Velocity Y', line=dict(dash='solid', color='darkgreen')), row=2, col=2)\n",
    "\n",
    "fig.add_trace(go.Scatter(x=t_vals_topp, y=outdd_topp[:, 0], mode='lines', name='Acceleration X', line=dict(dash='solid', color='darkred')), row=3, col=2)\n",
    "fig.add_trace(go.Scatter(x=t_vals_topp, y=outdd_topp[:, 1], mode='lines', name='Acceleration Y', line=dict(dash='solid', color='darkgreen')), row=3, col=2)\n",
    "\n",
    "# Update layout\n",
    "fig.update_layout(title_text=\"Stacked Plots of Position, Velocity, and Acceleration\")\n",
    "fig.update_layout(width=900, height=500)\n",
    "fig.show()"
   ]
  },
  {
   "cell_type": "code",
   "execution_count": null,
   "metadata": {},
   "outputs": [],
   "source": [
    "fig = px.scatter(x=traj(t_vals)[:, 0], y=traj(t_vals)[:, 1], opacity=0.2)\n",
    "fig.update_traces(marker=dict(size=4))\n",
    "fig.update_layout(xaxis=dict(scaleanchor=\"y\", scaleratio=1))\n",
    "fig.show()"
   ]
  },
  {
   "cell_type": "markdown",
   "metadata": {},
   "source": [
    "### Export the path to the cable robot\n",
    "\n",
    "Check the art_skills repo, `gerry06_toppra_send.ipynb`"
   ]
  },
  {
   "cell_type": "code",
   "execution_count": null,
   "metadata": {},
   "outputs": [],
   "source": [
    "import pickle\n",
    "with open('/tmp/star.pickle', 'wb') as f:\n",
    "    pickle.dump(traj, f)"
   ]
  },
  {
   "cell_type": "code",
   "execution_count": null,
   "metadata": {},
   "outputs": [],
   "source": [
    "with open('/tmp/star.pickle', 'rb') as f:\n",
    "    print(pickle.load(f).cspl)"
   ]
  },
  {
   "cell_type": "code",
   "execution_count": null,
   "metadata": {},
   "outputs": [],
   "source": []
  }
 ],
 "metadata": {
  "kernelspec": {
   "display_name": "base",
   "language": "python",
   "name": "python3"
  },
  "language_info": {
   "codemirror_mode": {
    "name": "ipython",
    "version": 3
   },
   "file_extension": ".py",
   "mimetype": "text/x-python",
   "name": "python",
   "nbconvert_exporter": "python",
   "pygments_lexer": "ipython3",
   "version": "3.9.15"
  },
  "orig_nbformat": 4
 },
 "nbformat": 4,
 "nbformat_minor": 2
}
