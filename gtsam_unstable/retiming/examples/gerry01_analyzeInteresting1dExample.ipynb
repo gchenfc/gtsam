{
 "cells": [
  {
   "cell_type": "markdown",
   "metadata": {},
   "source": [
    "First run  \n",
    "`nj -j8 Interesting1dSystemExample.run`"
   ]
  },
  {
   "cell_type": "code",
   "execution_count": null,
   "metadata": {},
   "outputs": [],
   "source": [
    "import numpy as np\n",
    "import plotly.express as px\n",
    "import matplotlib.pyplot as plt\n",
    "import pandas as pd\n",
    "import re\n",
    "from pathlib import Path"
   ]
  },
  {
   "cell_type": "code",
   "execution_count": null,
   "metadata": {},
   "outputs": [],
   "source": [
    "# Much slower, set to True when generating final plots\n",
    "plt.rcParams['text.usetex'] = True\n",
    "plt.rcParams['figure.figsize'] = [3.0, 2.0] # [6.4, 4.8]\n",
    "# Set all label sizes to 8pt\n",
    "plt.rcParams['font.size'] = 8\n",
    "plt.rcParams['axes.labelsize'] = 8\n",
    "plt.rcParams['axes.titlesize'] = 9\n",
    "plt.rcParams['xtick.labelsize'] = 8\n",
    "plt.rcParams['ytick.labelsize'] = 8\n",
    "plt.rcParams['legend.fontsize'] = 6\n",
    "plt.rcParams['figure.titlesize'] = 10\n",
    "# Set line widths\n",
    "plt.rcParams['axes.linewidth'] = 0.5\n",
    "plt.rcParams['lines.linewidth'] = 0.5\n",
    "plt.rcParams['lines.markersize'] = 4\n",
    "plt.rcParams['lines.markeredgewidth'] = 0.5\n",
    "plt.rcParams['patch.linewidth'] = 0.5\n",
    "plt.rcParams['grid.linewidth'] = 0.5"
   ]
  },
  {
   "cell_type": "code",
   "execution_count": null,
   "metadata": {},
   "outputs": [],
   "source": [
    "root = Path('../../../build/gtsam_unstable/retiming/examples/')\n",
    "export_path = Path('/Users/gerry/DropboxGatech/Apps/Overleaf/ICRA2024_TrajectoryRetimingQuadraticObjectives/figs/')"
   ]
  },
  {
   "cell_type": "code",
   "execution_count": null,
   "metadata": {},
   "outputs": [],
   "source": [
    "topp = pd.read_csv(root / 'topp.csv', header=None).to_numpy()\n",
    "qopp = pd.read_csv(root / 'qopp.csv', header=None).to_numpy()\n",
    "prob = pd.read_csv(root / 'prob.csv', header=None).to_numpy()\n",
    "# Create a Pandas dataframe from the data.  topp and qopp have 2 columns each: x, u.  prob has 2 columns: index and height\n",
    "df = pd.DataFrame({\n",
    "    'x TOPP': topp[:, 0],\n",
    "    'u TOPP': topp[:, 1],\n",
    "    'x QOPP': qopp[:, 0],\n",
    "    'u QOPP': qopp[:, 1],\n",
    "    'x limit': prob[:, 0],\n",
    "    'u limit': prob[:, 1],\n",
    "    'index': np.arange(prob.shape[0]),\n",
    "})\n",
    "df.head()"
   ]
  },
  {
   "cell_type": "code",
   "execution_count": null,
   "metadata": {},
   "outputs": [],
   "source": [
    "# Plot both columns in two_columns as 2 separate lines\n",
    "# Use linestyle '-'\n",
    "fig = px.scatter(df, x='index', y=['x limit', 'x TOPP', 'x QOPP'], height=300)\n",
    "fig.update_traces(mode='lines')\n",
    "fig.show()\n",
    "fig = px.scatter(df, y=['u TOPP', 'u QOPP'], height=300)\n",
    "fig.update_traces(mode='lines')\n",
    "fig.show()"
   ]
  },
  {
   "cell_type": "code",
   "execution_count": null,
   "metadata": {},
   "outputs": [],
   "source": [
    "plt.figure(figsize=(3.4, 2.8))\n",
    "plt.rcParams['legend.fontsize'] = 5\n",
    "\n",
    "ax1 = plt.subplot(2, 1, 1)\n",
    "plt.plot(df['index'], np.sqrt(df['x TOPP']), 'r', label='Time-optimal')\n",
    "plt.plot(df['index'], np.sqrt(df['x QOPP']), 'g', label='Quadratic Objectives')\n",
    "plt.plot(df['index'], np.sqrt(df['x limit']), 'k--', label='Max Speed Constraint')\n",
    "plt.ylim(-0.2, 1.1)\n",
    "plt.ylabel('Speed $\\dot{s}$')\n",
    "plt.title('Speed Profiles for\\nQuadratic vs Time-Optimal Retiming')\n",
    "plt.legend(loc='lower center')\n",
    "ax2 = plt.subplot(2, 1, 2, sharex=ax1)\n",
    "plt.plot(df['index'], df['u TOPP'], 'r', label='u TOPP')\n",
    "plt.plot(df['index'], df['u QOPP'], 'g', label='u QOPP')\n",
    "plt.plot(df['index'], df['u limit'], 'k--', label='limit')\n",
    "plt.ylim(-0.45, 0.45)\n",
    "plt.ylabel('Acceleration $\\ddot{s}$')\n",
    "plt.xlabel('Time Step $k$')\n",
    "plt.tight_layout()\n",
    "plt.margins(0, tight=True)\n",
    "\n",
    "fig = plt.gcf()\n",
    "fig.align_ylabels([ax1, ax2])\n",
    "plt.savefig(export_path / 'topp_vs_qopp.eps', bbox_inches='tight')\n",
    "# plt.subtitle('')"
   ]
  },
  {
   "cell_type": "code",
   "execution_count": null,
   "metadata": {},
   "outputs": [],
   "source": []
  }
 ],
 "metadata": {
  "kernelspec": {
   "display_name": "base",
   "language": "python",
   "name": "python3"
  },
  "language_info": {
   "codemirror_mode": {
    "name": "ipython",
    "version": 3
   },
   "file_extension": ".py",
   "mimetype": "text/x-python",
   "name": "python",
   "nbconvert_exporter": "python",
   "pygments_lexer": "ipython3",
   "version": "3.9.15"
  },
  "orig_nbformat": 4
 },
 "nbformat": 4,
 "nbformat_minor": 2
}
