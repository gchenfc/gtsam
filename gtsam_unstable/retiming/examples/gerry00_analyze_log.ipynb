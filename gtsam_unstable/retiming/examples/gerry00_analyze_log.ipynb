{
 "cells": [
  {
   "cell_type": "code",
   "execution_count": null,
   "metadata": {},
   "outputs": [],
   "source": [
    "import numpy as np\n",
    "import plotly.express as px\n",
    "import pandas as pd"
   ]
  },
  {
   "cell_type": "code",
   "execution_count": null,
   "metadata": {},
   "outputs": [],
   "source": [
    "with open('../../../build/tmp.log', 'r') as f:\n",
    "    data = f.read()\n",
    "    log_by_key = data.split(\"Eliminating key \")[1:]\n",
    "    log_by_key = {block.split('\\n')[0]: block for block in log_by_key}\n",
    "    print(log_by_key.keys())"
   ]
  },
  {
   "cell_type": "code",
   "execution_count": null,
   "metadata": {},
   "outputs": [],
   "source": [
    "tmp = log_by_key['x49']\n",
    "def from_until(string, start, end):\n",
    "    return string.split(start)[1].split(end)[0]\n",
    "\n",
    "def parse_log_section(log_of_key: str):\n",
    "    joint = log_of_key.split('Passing on joint')[1]\n",
    "    separator = joint.splitlines()[0][3:]\n",
    "    C = from_until(joint, 'Cost:C:', 'xc:')\n",
    "    xc = from_until(joint, 'xc:', '\\n')\n",
    "    inequalities = [line.strip().split(': ')[1] for line in joint.splitlines() if 'Inequality' in line]\n",
    "    abcdef = np.array([list(map(float, line.split())) for line in C.strip().split(\"\\n\")])\n",
    "    xc = np.array([[float(x)] for x in xc.split()])\n",
    "    xc = np.array([-999, *xc.flatten(), 999]).reshape(-1, 1)\n",
    "    def parse_inequality(string):\n",
    "        coef1 = float(string.split('*')[0])\n",
    "        rhs = float(string.split('=')[1])\n",
    "        return coef1, rhs\n",
    "    # inequalities = [parse_inequality(line) for line in inequalities]\n",
    "    return separator, xc, abcdef, inequalities\n",
    "\n",
    "separator, xc, abcdef, inequalities = parse_log_section(tmp)\n",
    "print(separator, xc.shape, abcdef.shape, inequalities)"
   ]
  },
  {
   "cell_type": "code",
   "execution_count": null,
   "metadata": {},
   "outputs": [],
   "source": [
    "def evaluate_quad(xc, abcdef, num_points=500):\n",
    "    if xc.shape[0] <= 3:\n",
    "        xvals = np.linspace(-1, 1, num_points)\n",
    "    else:\n",
    "        xvals = np.linspace(xc[1, 0]+1e-9, xc[-2, 0]-1e-9, num_points)\n",
    "    # xvals = np.linspace(-1, 1, num_points)\n",
    "    quad = abcdef[:, [0, 3, 5]]\n",
    "    funcs = [np.poly1d(q) for q in quad]\n",
    "\n",
    "    conditions = (xvals > xc[:-1]) & (xvals < xc[1:])\n",
    "    y = np.piecewise(xvals, conditions, funcs)\n",
    "    return xvals, y\n",
    "\n",
    "x, y = evaluate_quad(xc, abcdef)"
   ]
  },
  {
   "cell_type": "code",
   "execution_count": null,
   "metadata": {},
   "outputs": [],
   "source": [
    "px.scatter(xc[1:-1]).update_layout(height=200, width=500, margin=dict(l=0,r=0,t=0,b=0)).show()"
   ]
  },
  {
   "cell_type": "code",
   "execution_count": null,
   "metadata": {},
   "outputs": [],
   "source": [
    "# Create a plot with a line\n",
    "def plot(x, y, xc):\n",
    "    fig = px.scatter(x=x, y=y)\n",
    "    fig.update_traces(mode=\"lines\")\n",
    "    # Draw a vertical line for each xc\n",
    "    for x in xc[1:-1].flatten():\n",
    "        fig.add_vline(x=x, line_dash=\"dash\")\n",
    "    # fig.add_scatter(x=xc[1:-1].flatten(), y=np.zeros_like(xc[1:-1]), mode=\"markers\")\n",
    "    return fig\n",
    "plot(x, y, xc)"
   ]
  },
  {
   "cell_type": "code",
   "execution_count": null,
   "metadata": {},
   "outputs": [],
   "source": [
    "results = {}\n",
    "sep = 'x49'\n",
    "while True:\n",
    "    print(sep, end=' ')\n",
    "    try:\n",
    "        sep, xc, abcdef, ineq = parse_log_section(log_by_key[sep])\n",
    "        x, y = evaluate_quad(xc, abcdef, num_points=100)\n",
    "        results[sep] = (x, y, xc, abcdef, ineq)\n",
    "    except:\n",
    "        print()\n",
    "        break\n",
    "print(f'Finished on {sep}')\n"
   ]
  },
  {
   "cell_type": "code",
   "execution_count": null,
   "metadata": {},
   "outputs": [],
   "source": [
    "# results[sep] = (x, y, xc, abcdef, ineq)\n",
    "# Create a dataframe with the results, with columns \"key\", \"x\", \"y\", and flattening out x, y since they are both Nx1 arrays\n",
    "df = pd.DataFrame([(key, *results[key][:2]) for key in results.keys()], columns=['key', 'x', 'y']).apply(pd.Series.explode)\n",
    "display(df[::1000].head())\n",
    "xc_df = pd.DataFrame([(int(key[1:]), results[key][2][1:-1].flatten()) for key in results.keys()], columns=['key', 'xc']).explode('xc')\n",
    "display(xc_df.head())"
   ]
  },
  {
   "cell_type": "code",
   "execution_count": null,
   "metadata": {},
   "outputs": [],
   "source": [
    "display(results['x4'][2].tolist())\n",
    "display(results['x4'][3].tolist())"
   ]
  },
  {
   "cell_type": "code",
   "execution_count": null,
   "metadata": {},
   "outputs": [],
   "source": [
    "# Create a stacked plotly scatter plot for the following x values\n",
    "# Import make_suplots\n",
    "from plotly.subplots import make_subplots\n",
    "\n",
    "\n",
    "fig = px.scatter(df, x='x', y='y', facet_col='key', facet_col_wrap=5, height=1000, facet_col_spacing=0.01, facet_row_spacing=0.01)\n",
    "fig.update_traces(mode=\"lines\")\n",
    "fig.update_layout(margin=dict(l=0,r=0,t=0,b=0))\n",
    "fig.update_yaxes(range=[-0.05, 0.05])\n",
    "for axis in fig.layout:\n",
    "    if axis.startswith(\"yaxis\"):\n",
    "        fig.layout[axis]['matches'] = None\n",
    "# Draw a vertical line for each xc\n",
    "# for index, row_ in xc_df[:100].iterrows():\n",
    "#     i = row_['key']\n",
    "#     col = i % 5 + 1  # Assuming facet_col_wrap=5\n",
    "#     row = 9 - i // 5 + 1\n",
    "#     fig.add_vline(x=row_['xc'], line_dash=\"dash\", col=col, row=row)\n",
    "fig.show()\n",
    "\n",
    "# for i in [5, 15, 25, 35, 45]:\n",
    "#     x, y, xc, abcdef, ineq = results[f'x{i}']\n",
    "#     fig = plot(x, y, xc)\n",
    "#     fig.update_layout(title=f'x{i}', height=200, width=400, margin=dict(l=0,r=0,t=30,b=0))\n",
    "#     fig.show()"
   ]
  },
  {
   "cell_type": "code",
   "execution_count": null,
   "metadata": {},
   "outputs": [],
   "source": [
    "x, y, xc, abcdef, _ = results['x37']\n",
    "with np.printoptions(suppress=True, linewidth=300):\n",
    "    display(np.hstack((xc[1:], abcdef)))"
   ]
  },
  {
   "cell_type": "code",
   "execution_count": null,
   "metadata": {},
   "outputs": [],
   "source": []
  }
 ],
 "metadata": {
  "kernelspec": {
   "display_name": "base",
   "language": "python",
   "name": "python3"
  },
  "language_info": {
   "codemirror_mode": {
    "name": "ipython",
    "version": 3
   },
   "file_extension": ".py",
   "mimetype": "text/x-python",
   "name": "python",
   "nbconvert_exporter": "python",
   "pygments_lexer": "ipython3",
   "version": "3.9.15"
  },
  "orig_nbformat": 4
 },
 "nbformat": 4,
 "nbformat_minor": 2
}
