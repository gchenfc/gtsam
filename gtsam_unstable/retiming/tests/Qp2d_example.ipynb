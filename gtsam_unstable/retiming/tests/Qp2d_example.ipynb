{
 "cells": [
  {
   "cell_type": "markdown",
   "metadata": {},
   "source": [
    "This file is a helper file to test the unit tests `testQp2d.cpp` and `testPiecewiseQuadratic.cpp`."
   ]
  },
  {
   "cell_type": "code",
   "execution_count": null,
   "metadata": {},
   "outputs": [],
   "source": [
    "import numpy as np\n",
    "import plotly.express as px\n",
    "import plotly.graph_objects as go"
   ]
  },
  {
   "cell_type": "markdown",
   "metadata": {},
   "source": [
    "## Problem Definition\n",
    "The objective function is:\n",
    "$$\n",
    "\\begin{cases}\n",
    "(0.5) (x + 0.5)^2 + (0)xy + (3)(y-0.1)^2, & x < 0\\\\\n",
    "(0.8) x^2 - (1.2)xy + y^2, & x \\geq 0\n",
    "\\end{cases}\n",
    "$$\n",
    "$$\n",
    "\\begin{cases}\n",
    "(0.5) x^2 + (3)y^2 + (0)xy + (0.5)x - (0.6)y + (0.155), & x < 0\\\\\n",
    "(0.8) x^2 + (1)y^2 - (1.2)xy + (0)x + (0)y + (0), & x \\geq 0\n",
    "\\end{cases}\n",
    "$$\n",
    "\n",
    "The inequality constraints form an octagon with vert/horiz edges length 1 distance 1 from origin, and diagonal edges with length 1/sqrt(2).  Just look at the graph at the very bottom.\n",
    "\n",
    "## Deriving the analytical solution\n",
    "\n",
    "For z2,\n",
    "  $$\\begin{align}\n",
    "    x_2^*(y) &= (+1.2/1.6) y = (0.75) * y \\\\\n",
    "    z_2^*(y) &= (0.8) (0.75)^2 y^2 - (1.2) (0.75) y^2 + y^2 \\\\\n",
    "              &= 0.55 y^2\n",
    "    \\end{align}$$\n",
    "For z1,\n",
    "  $$\\begin{align}\n",
    "    x_1^*(y) &= -0.5 \\\\\n",
    "    z_1^*(y) &= 0 + 0 + 3(y-0.1)^2 \\\\\n",
    "              &= 3(y-0.1)^2\n",
    "    \\end{align}$$\n",
    "\n",
    "The first segment starts at $y=-1$.  Pictorally, we can see that the solution rides $z_2$ along $x=0$, so $z_2^*(y) = y^2$ until $z_2^*(y)$ gets better.  That happens at $y=0$, so the first segment is $x=0$ for $y \\in [-1, 0]$.\n",
    "\n",
    "Then we take $z_2^*(y)$ until $x_1^*(y)$ gets better then follows $x_1^*(y)$ until $x_2^*(y)$ gets better again.  These 2 switching points occur at\n",
    "  $$ \\begin{align}\n",
    "    0.55y^2 &= 3(y-0.1)^2 \\\\\n",
    "    (3-0.55)y^2 - 0.6y + 0.03 &= 0 \\\\\n",
    "    y &= 0.0700194588625913, 0.17487850032108213\n",
    "    \\end{align}$$\n",
    "\n",
    "The final segment comes from the inequality constraint $x+y\\le 1.5$, so it starts when the line $x=0.75y$ intersects $x+y=1.5$ and continues until $y=1$.  So that's at $y=1.5/1.75=6/7$."
   ]
  },
  {
   "cell_type": "code",
   "execution_count": null,
   "metadata": {},
   "outputs": [],
   "source": [
    "# Helper code for ^\n",
    "a, b, c = 3-0.55, -0.6, 0.03\n",
    "sol1 = (-b - np.sqrt(b**2 - 4*a*c))/(2*a)\n",
    "sol2 = (-b + np.sqrt(b**2 - 4*a*c))/(2*a)\n",
    "print(sol1, sol2)"
   ]
  },
  {
   "cell_type": "markdown",
   "metadata": {},
   "source": [
    "# Code"
   ]
  },
  {
   "cell_type": "code",
   "execution_count": null,
   "metadata": {},
   "outputs": [],
   "source": [
    "t = np.linspace(-1, 1, 500)\n",
    "x, y = np.meshgrid(t, t)\n",
    "z1 = 0.5 * (x + 0.5)**2 + 3 * (y-0.1)**2\n",
    "z2 = 0.8 * x**2 - 1.2 * x*y + y**2\n",
    "z = z1 * (x < 0) + z2 * (x >= 0)\n",
    "# Check the conversion / canonicalization\n",
    "vars = [x**2, y**2, x*y, x, y, np.ones_like(x)]\n",
    "z1a = np.sum([c*v for c, v in zip([0.5, 3, 0, 0.5, -0.6, 0.155], vars)], axis=0)\n",
    "z2a = np.sum([c*v for c, v in zip([0.8, 1, -1.2, 0, 0, 0], vars)], axis=0)\n",
    "assert np.allclose(z1, z1a)\n",
    "assert np.allclose(z2, z2a)"
   ]
  },
  {
   "cell_type": "code",
   "execution_count": null,
   "metadata": {},
   "outputs": [],
   "source": [
    "inequalities = ((x <= 1) & (x >= -1) & (y <= 1) & (y >= -1) &\n",
    "                (x + y <= 1.5) & (x + y >= -1.5) & (x - y <= 1.5) & (x - y >= -1.5))\n",
    "z[~inequalities] = np.nan"
   ]
  },
  {
   "cell_type": "code",
   "execution_count": null,
   "metadata": {},
   "outputs": [],
   "source": [
    "# Expected solution, numerical approximation\n",
    "xmin = t * 0\n",
    "for i, row in enumerate(z):\n",
    "    row2 = row.copy()\n",
    "    row2[np.isnan(row2)] = np.inf\n",
    "    xmin[i] = t[np.argmin(row2)]"
   ]
  },
  {
   "cell_type": "code",
   "execution_count": null,
   "metadata": {},
   "outputs": [],
   "source": [
    "# Expected solution, analytical solution\n",
    "y_ = t\n",
    "xc2, xc3 = 0.0700194588625913, 0.17487850032108213\n",
    "xmin2 = ((0) * (y_ < 0) +  #\n",
    "         (0.75 * y_) * (y_ >= 0) * (y_ <= xc2) +  #\n",
    "         (-0.5) * (y_ > xc2) * (y_ <= xc3) +  #\n",
    "         (0.75 * y_) * (y_ > xc3) * (y_ <= 6/7) + #\n",
    "         (1.5 - y_) * (y_ >= 6/7))"
   ]
  },
  {
   "cell_type": "code",
   "execution_count": null,
   "metadata": {},
   "outputs": [],
   "source": [
    "fig = go.Figure(data=go.Contour(x=t, y=t, z=z))\n",
    "fig.add_trace(go.Scatter(x=xmin, y=t, mode='lines', name='numerical'))\n",
    "fig.add_trace(go.Scatter(x=xmin2, y=t, mode='lines', name='analytical', line=dict(dash='dash', color='black')))\n",
    "# Make axes equal by setting aspect ratio to 1\n",
    "fig.update_yaxes(scaleanchor=\"x\", scaleratio=1)\n",
    "fig.update_layout(width=400, height=300, margin=dict(l=0, r=0, b=0, t=0))\n",
    "fig.show()"
   ]
  },
  {
   "cell_type": "code",
   "execution_count": null,
   "metadata": {},
   "outputs": [],
   "source": []
  }
 ],
 "metadata": {
  "kernelspec": {
   "display_name": "base",
   "language": "python",
   "name": "python3"
  },
  "language_info": {
   "codemirror_mode": {
    "name": "ipython",
    "version": 3
   },
   "file_extension": ".py",
   "mimetype": "text/x-python",
   "name": "python",
   "nbconvert_exporter": "python",
   "pygments_lexer": "ipython3",
   "version": "3.9.15"
  },
  "orig_nbformat": 4
 },
 "nbformat": 4,
 "nbformat_minor": 2
}
